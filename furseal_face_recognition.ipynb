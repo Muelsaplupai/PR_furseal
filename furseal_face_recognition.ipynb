{
 "cells": [
  {
   "cell_type": "code",
   "execution_count": null,
   "id": "7a702cb9-51fa-44a5-9a25-8548dc188bc1",
   "metadata": {},
   "source": [
    "!pip install face_recognition"
   ],
   "outputs": []
  },
  {
   "cell_type": "markdown",
   "id": "f9b0ad5a-c215-40f3-b915-ab64971bf141",
   "metadata": {},
   "source": [
    "## Face Clustering"
   ]
  },
  {
   "cell_type": "code",
   "execution_count": 59,
   "id": "01db7096-de2c-41f8-ae7d-34e73618e48d",
   "metadata": {},
   "source": [
    "import face_recognition\n",
    "import matplotlib.pyplot as plt\n",
    "from skimage import feature as ft\n",
    "from skimage.color import rgb2gray\n",
    "from PIL import Image\n",
    "from sklearn.cluster import DBSCAN\n",
    "import numpy as np\n",
    "\n",
    "import os"
   ],
   "outputs": []
  },
  {
   "cell_type": "code",
   "execution_count": 39,
   "id": "341119b8-b510-42a2-91fb-75d2bbedea25",
   "metadata": {},
   "source": [
    "img = Image.open('./yolov5/runs/detect/exp/corps/face/7T5A9436.jpg')"
   ],
   "outputs": []
  },
  {
   "cell_type": "code",
   "execution_count": 40,
   "id": "0a2ac5ed-a94b-40e4-9e1f-6fe71bc1380f",
   "metadata": {},
   "source": [
    "plt.imshow(img)"
   ],
   "outputs": []
  },
  {
   "cell_type": "code",
   "execution_count": 43,
   "id": "c033dceb-57df-41d9-94df-e6ec00ba6312",
   "metadata": {},
   "source": [
    "img_resize = img.resize((416, 416), Image.Resampling.BILINEAR) "
   ],
   "outputs": []
  },
  {
   "cell_type": "code",
   "execution_count": 44,
   "id": "7ff5b875-a9ee-455d-a470-fa0e5865c317",
   "metadata": {},
   "source": [
    "plt.imshow(img_resize)"
   ],
   "outputs": []
  },
  {
   "cell_type": "code",
   "execution_count": 45,
   "id": "c5ee178e-24d2-4581-88d0-7de2dc6b428b",
   "metadata": {},
   "source": [
    "gray = rgb2gray(img_resize) / 255.0"
   ],
   "outputs": []
  },
  {
   "cell_type": "code",
   "execution_count": 46,
   "id": "90a9f7d1-8f8f-4b4a-a72e-c1ffeeefccc1",
   "metadata": {},
   "source": [
    "plt.imshow(gray)"
   ],
   "outputs": []
  },
  {
   "cell_type": "code",
   "execution_count": 47,
   "id": "f17df554-4e68-40e6-a34f-25346b61a307",
   "metadata": {},
   "source": [
    "features, hog_image = ft.hog(gray,  # input image\n",
    "                  orientations=12,  # number of bins\n",
    "                  pixels_per_cell=[10, 10], # pixel per cell\n",
    "                  cells_per_block=[4, 4], # cells per blcok\n",
    "                  block_norm = 'L1', #  block norm : str {‘L1’, ‘L1-sqrt’, ‘L2’, ‘L2-Hys’}, optional\n",
    "                  transform_sqrt = True, # power law compression (also known as gamma correction)\n",
    "                  feature_vector=True, # flatten the final vectors\n",
    "                  visualize=True) # return HOG map"
   ],
   "outputs": []
  },
  {
   "cell_type": "code",
   "execution_count": 48,
   "id": "38af7c17-c393-48f9-9285-eb306a6c9f56",
   "metadata": {},
   "source": [
    "plt.imshow(hog_image)"
   ],
   "outputs": []
  },
  {
   "cell_type": "code",
   "execution_count": 49,
   "id": "e0d17511-d10d-44d5-a7c5-721219b7077c",
   "metadata": {},
   "source": [
    "features.shape"
   ],
   "outputs": []
  },
  {
   "cell_type": "code",
   "execution_count": 66,
   "id": "612babc8-af96-4b6d-a17f-8131e9441f83",
   "metadata": {},
   "source": [
    "files = os.listdir('./face/')\n",
    "result = []\n",
    "\n",
    "for file in files:\n",
    "    img = img=Image.open('./face/'+file)\n",
    "    img_resize = img.resize((416, 416), Image.Resampling.BILINEAR)\n",
    "    gray = rgb2gray(img_resize) / 255.0\n",
    "    features = ft.hog(gray,  # input image\n",
    "                  orientations=12,  # number of bins\n",
    "                  pixels_per_cell=[10, 10], # pixel per cell\n",
    "                  cells_per_block=[4, 4], # cells per blcok\n",
    "                  block_norm = 'L1', #  block norm : str {‘L1’, ‘L1-sqrt’, ‘L2’, ‘L2-Hys’}, optional\n",
    "                  transform_sqrt = True, # power law compression (also known as gamma correction)\n",
    "                  feature_vector=True, # flatten the final vectors\n",
    "                  visualize=False) # return HOG map\n",
    "    result.append(features)"
   ],
   "outputs": []
  },
  {
   "cell_type": "code",
   "execution_count": 86,
   "id": "3b4c80db-a96d-407a-9804-eb831ad3b8e6",
   "metadata": {},
   "source": [
    "clf = DBSCAN(eps=4, min_samples=3, metric=\"euclidean\", n_jobs=-1)\n",
    "clf.fit(result)"
   ],
   "outputs": []
  },
  {
   "cell_type": "code",
   "execution_count": 92,
   "id": "a67716c4-68c4-4d1e-8801-08a14e741635",
   "metadata": {},
   "source": [
    "np.unique(clf.labels_)"
   ],
   "outputs": []
  },
  {
   "cell_type": "code",
   "execution_count": 101,
   "id": "acf106e7-bdf8-47e2-92af-37fe4719a8a7",
   "metadata": {},
   "source": [
    "labels = list(clf.labels_)"
   ],
   "outputs": []
  },
  {
   "cell_type": "code",
   "execution_count": 108,
   "id": "80de1745-0bee-4253-bc22-17dda617a21c",
   "metadata": {},
   "source": [
    "[i for i, x in enumerate(labels) if x==1]"
   ],
   "outputs": []
  },
  {
   "cell_type": "code",
   "execution_count": 120,
   "id": "ba8d2c5d-0a39-4ed1-a8a5-d52ce8086e5c",
   "metadata": {},
   "source": [
    "plt.figure(figsize=(9, 9))\n",
    "for m in range(len([i for i, x in enumerate(labels) if x==1])): \n",
    "    plt.subplot(len([i for i, x in enumerate(labels) if x==1])//6+1, 6 , m + 1)\n",
    "    img = Image.open('./face/'+files[[i for i, x in enumerate(labels) if x==1][m]])\n",
    "    plt.imshow(img)\n",
    "plt.show()"
   ],
   "outputs": []
  },
  {
   "cell_type": "code",
   "execution_count": 124,
   "id": "965464e3-8c7a-4352-9f01-a86cc36bbd9f",
   "metadata": {},
   "source": [
    "plt.figure(figsize=(10, 10))\n",
    "for m in range(len([i for i, x in enumerate(labels) if x==0])): \n",
    "    plt.subplot(len([i for i, x in enumerate(labels) if x==0])//6+1, 6 , m + 1)\n",
    "    img = Image.open('./face/'+files[[i for i, x in enumerate(labels) if x==0][m]])\n",
    "    plt.imshow(img)\n",
    "plt.show()"
   ],
   "outputs": []
  },
  {
   "cell_type": "code",
   "execution_count": 125,
   "id": "4ee2f7aa-94ab-416c-98ca-c991bdd49ca7",
   "metadata": {},
   "source": [
    "plt.figure(figsize=(30, 30))\n",
    "for m in range(len([i for i, x in enumerate(labels) if x==-1])): \n",
    "    plt.subplot(len([i for i, x in enumerate(labels) if x==-1])//6+1, 6 , m + 1)\n",
    "    img = Image.open('./face/'+files[[i for i, x in enumerate(labels) if x==-1][m]])\n",
    "    plt.imshow(img)\n",
    "plt.show()"
   ],
   "outputs": []
  },
  {
   "cell_type": "code",
   "execution_count": null,
   "id": "5fdc89ee-5083-45e3-a05c-ae9329975cbd",
   "metadata": {},
   "source": [],
   "outputs": []
  }
 ],
 "metadata": {
  "kernelspec": {
   "display_name": "Python 3 (ipykernel)",
   "language": "python",
   "name": "python3"
  },
  "language_info": {
   "codemirror_mode": {
    "name": "ipython",
    "version": 3
   },
   "file_extension": ".py",
   "mimetype": "text/x-python",
   "name": "python",
   "nbconvert_exporter": "python",
   "pygments_lexer": "ipython3",
   "version": "3.9.12"
  }
 },
 "nbformat": 4,
 "nbformat_minor": 5
}
